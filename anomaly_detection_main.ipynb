{
 "cells": [
  {
   "cell_type": "code",
   "execution_count": null,
   "metadata": {
    "colab": {
     "base_uri": "https://localhost:8080/"
    },
    "id": "do48YBmPm0-g",
    "outputId": "b5a85aed-8e87-46ad-ebc0-575d11591dbf"
   },
   "outputs": [],
   "source": [
    "# pip install iisignature"
   ]
  },
  {
   "cell_type": "code",
   "execution_count": 1,
   "metadata": {
    "id": "Z5oawNTenC7u"
   },
   "outputs": [],
   "source": [
    "import numpy as np\n",
    "import pandas as pd\n",
    "from iisignature import *\n",
    "import numbers\n",
    "import matplotlib.pyplot as plt\n",
    "import matplotlib.dates as mdates\n",
    "import matplotlib.patches as patches\n",
    "plt.style.use(\"seaborn-darkgrid\")\n",
    "import random\n",
    "import itertools\n",
    "import warnings\n",
    "warnings.filterwarnings('ignore')"
   ]
  },
  {
   "cell_type": "code",
   "execution_count": 2,
   "metadata": {
    "id": "2XB5FuPe2_Ji"
   },
   "outputs": [],
   "source": [
    "from scipy.spatial import distance\n",
    "from sklearn import linear_model\n",
    "from sklearn.preprocessing import MinMaxScaler\n",
    "from sklearn.model_selection import train_test_split\n",
    "from sklearn.metrics import confusion_matrix, classification_report,accuracy_score\n",
    "import itertools\n",
    "from sklearn.neighbors import LocalOutlierFactor\n",
    "from sklearn.ensemble import IsolationForest\n",
    "import copy\n",
    "import math\n",
    "from scipy.ndimage import shift\n",
    "from sklearn.base import BaseEstimator, TransformerMixin\n",
    "from sklearn.utils import as_float_array,shuffle\n",
    "from sklearn.metrics import roc_curve,roc_auc_score,auc\n",
    "from sklearn.covariance import EmpiricalCovariance, MinCovDet\n",
    "from sklearn.metrics import fbeta_score"
   ]
  },
  {
   "cell_type": "markdown",
   "metadata": {},
   "source": [
    "### Conformance Anomaly Detection Method with Signature"
   ]
  },
  {
   "cell_type": "markdown",
   "metadata": {},
   "source": [
    "#### Main equations"
   ]
  },
  {
   "cell_type": "code",
   "execution_count": 1,
   "metadata": {},
   "outputs": [],
   "source": [
    "def sign_splitdata(x,y,x_test,order):\n",
    "    signa = [list(sig(np.array(stream), order)) for stream in x]\n",
    "    signa_test = [list(sig(np.array(stream), order)) for stream in x_test]\n",
    "    \n",
    "    scaler = MinMaxScaler()\n",
    "    X_center = np.array(scaler.fit_transform(signa))\n",
    "    X_testcenter = np.array(scaler.transform(signa_test))\n",
    "    # math.factorial(order)*\n",
    "    X1,X2,y1,y2 = train_test_split(X_center,y,test_size=0.5)\n",
    "    \n",
    "    return X1,X2,y1,X_testcenter"
   ]
  },
  {
   "cell_type": "code",
   "execution_count": 2,
   "metadata": {},
   "outputs": [],
   "source": [
    "def sign_splitdata_all(x,y,x_test,order):\n",
    "    signa = [list(sig(np.array(stream), order)) for stream in x]\n",
    "    signa_test = [list(sig(np.array(stream), order)) for stream in x_test]\n",
    "    \n",
    "    scaler = MinMaxScaler()\n",
    "    X_center = np.array(scaler.fit_transform(signa))\n",
    "    X_testcenter = np.array(scaler.transform(signa_test))\n",
    "    # math.factorial(order)*\n",
    "    X1,X2,y1,y2 = train_test_split(X_center,y,test_size=0.5)\n",
    "    \n",
    "    return X1,X2,y1,y2,X_testcenter,X_center"
   ]
  },
  {
   "cell_type": "code",
   "execution_count": 5,
   "metadata": {
    "id": "xkHMBdcImCEX"
   },
   "outputs": [],
   "source": [
    "def conformance(x, X2):\n",
    "    cov_X2 = np.linalg.pinv(np.cov((x-X2).T))\n",
    "    inf = distance.mahalanobis(x, X2[0], cov_X2)\n",
    "    for i in range(len(X2)):\n",
    "        mal = distance.mahalanobis(x, X2[i], cov_X2)\n",
    "        if inf > mal:\n",
    "            inf = mal\n",
    "    return inf"
   ]
  },
  {
   "cell_type": "code",
   "execution_count": 6,
   "metadata": {},
   "outputs": [],
   "source": [
    "def thershold_all(X1,X2,epsilon):\n",
    "    threshold_1,pred_label_1 = thershold(X1,X2,epsilon)\n",
    "    threshold_2,pred_label_2 = thershold(X2,X1,epsilon)\n",
    "    return (threshold_1+threshold_2)/2,pred_label_1,pred_label_2"
   ]
  },
  {
   "cell_type": "code",
   "execution_count": 7,
   "metadata": {
    "id": "cbih_6IqyU7l"
   },
   "outputs": [],
   "source": [
    "def thershold(X1,X2,epsilon):\n",
    "    dist = []\n",
    "    pred_label = []\n",
    "    for i in range(len(X1)):\n",
    "        dist.append(conformance(X1[i],X2))\n",
    "    dist = np.array(dist)\n",
    "    threshold = np.quantile(dist,epsilon)\n",
    "    for i in range(len(X1)):\n",
    "        if dist[i] > threshold:\n",
    "            dist = np.array(dist)\n",
    "            pred_label.append(1)\n",
    "        else:\n",
    "            pred_label.append(0)\n",
    "    return threshold,pred_label"
   ]
  },
  {
   "cell_type": "code",
   "execution_count": 8,
   "metadata": {},
   "outputs": [],
   "source": [
    "def pred_anomaly(X_test,X2,thresh,X_test_label):\n",
    "    anoma = []\n",
    "    conf = []\n",
    "\n",
    "    for i in range(len(X_test)):\n",
    "        conf.append(conformance(X_test[i],X2))\n",
    "        if conf[i] > thresh:\n",
    "            anoma.append(1)\n",
    "        else:\n",
    "            anoma.append(0)\n",
    "    return conf,anoma"
   ]
  },
  {
   "cell_type": "code",
   "execution_count": 9,
   "metadata": {},
   "outputs": [],
   "source": [
    "def mergeDict(dict1, dict2):\n",
    "    dict3 = {**dict1, **dict2}\n",
    "    for key, value in dict3.items():\n",
    "        if key in dict1 and key in dict2:\n",
    "               dict3[key] = [dict1[key],value]\n",
    "    return dict3"
   ]
  },
  {
   "cell_type": "code",
   "execution_count": 53,
   "metadata": {},
   "outputs": [],
   "source": [
    "def pred_result_diff_signature_order(x,y,x_test,y_test,order,epsilon):\n",
    "    X1={}\n",
    "    X2={}\n",
    "    X1_label={}\n",
    "    X_test={}\n",
    "    thershold_ratio = {}\n",
    "    X1_pred_label={}\n",
    "    X2_pred_label={}\n",
    "    pred_conf = {}\n",
    "    pred_test_label ={}\n",
    "\n",
    "    for sig_order in range(1,(order+1)):\n",
    "        key = 'Signature order {}'.format(sig_order)\n",
    "        \n",
    "        X1[key],X2[key],X1_label[key],X_test[key] = sign_splitdata(x,y,x_test,sig_order)\n",
    "        thershold_ratio[key],X1_pred_label[key]= thershold(X1[key],X2[key],epsilon)\n",
    "        pred_conf[key],pred_test_label[key] = pred_anomaly(X_test[key],X2[key],thershold_ratio[key],y_test)\n",
    "    \n",
    "    return X1_label,X1_pred_label,thershold_ratio,pred_conf,pred_test_label\n",
    "    "
   ]
  },
  {
   "cell_type": "code",
   "execution_count": 13,
   "metadata": {},
   "outputs": [],
   "source": [
    "def plot_pred_result(pred_conf,y_test,epsilon):\n",
    "    plt.figure(figsize=(6, 6))\n",
    "    for key in pred_conf.keys():\n",
    "       false_positive_rate, true_positive_rate, _ = roc_curve(y_test, pred_conf[key])\n",
    "       area_under_curve = auc(false_positive_rate, true_positive_rate)\n",
    "       plt.plot(false_positive_rate, true_positive_rate,\n",
    "                 linewidth=3, label='{} (AUC={:0.3f})'.format(key, area_under_curve))\n",
    "    plt.plot([0, 1], [0, 1], color='k', linestyle='--', linewidth=3)\n",
    "    plt.xlim([0.0, 1.0])\n",
    "    plt.ylim([0.0, 1.0])\n",
    "    plt.xlabel('False Positive Rate')\n",
    "    plt.ylabel('True Positive Rate')\n",
    "    plt.legend(loc='center left', bbox_to_anchor=(1.04,0.5), borderaxespad=0)\n",
    "    plt.title('AUCROC curve for epsilon {}'.format(epsilon))\n",
    "    plt.grid(True)\n",
    "    plt.show()"
   ]
  },
  {
   "cell_type": "markdown",
   "metadata": {},
   "source": [
    "#### Transform methods"
   ]
  },
  {
   "cell_type": "code",
   "execution_count": 20,
   "metadata": {},
   "outputs": [],
   "source": [
    "def invis_transform(X):\n",
    "    l = []\n",
    "    l.append([X[0],0])\n",
    "    for i in range(len(X)):\n",
    "        l.append([X[i],1])\n",
    "    return l"
   ]
  },
  {
   "cell_type": "code",
   "execution_count": 16,
   "metadata": {},
   "outputs": [],
   "source": [
    " # add time (transform)\n",
    "def time_transform(X):\n",
    "    tt=np.linspace(0,1,len(X))\n",
    "    l = []\n",
    "    for j in range(len(tt)):\n",
    "        l.append([tt[j],X[j]])\n",
    "    return l"
   ]
  },
  {
   "cell_type": "code",
   "execution_count": 43,
   "metadata": {},
   "outputs": [],
   "source": [
    "def non_transform(X):\n",
    "    return X"
   ]
  },
  {
   "cell_type": "code",
   "execution_count": 21,
   "metadata": {},
   "outputs": [],
   "source": [
    "def transf(X,transform):\n",
    "    return [transform(x) for x in X]"
   ]
  },
  {
   "cell_type": "code",
   "execution_count": 19,
   "metadata": {},
   "outputs": [],
   "source": [
    "# cited from https://github.com/crispitagorico/sigkernel/blob/master/sigkernel/transformers.py\n",
    "def transform(paths, at=False, ll=False, scale=1.):\n",
    "    paths = scale*paths\n",
    "    if ll:\n",
    "        paths = LeadLag().fit_transform(paths)\n",
    "    if at:\n",
    "        paths = AddTime().fit_transform(paths)\n",
    "    return np.array(paths)\n",
    "\n",
    "def normalize(sigs, width, depth):\n",
    "    new_sigs = []\n",
    "    for sig in sigs:\n",
    "        new_sig = np.zeros_like(sig)\n",
    "        for k in range(depth):\n",
    "            dim = width*(width**(k)-1)\n",
    "            new_sig[dim:dim + width**(k+1)] = math.factorial(k+1)*sig[dim:dim + width**(k+1)]\n",
    "        new_sigs.append(new_sig)\n",
    "    return np.array(new_sigs)\n",
    "\n",
    "class AddTime(BaseEstimator, TransformerMixin):\n",
    "    def __init__(self, init_time=0., total_time=1.):\n",
    "        self.init_time = init_time\n",
    "        self.total_time = total_time\n",
    "\n",
    "    def fit(self, X, y=None):\n",
    "        return self\n",
    "\n",
    "    def transform_instance(self, X):\n",
    "        t = np.linspace(self.init_time, self.init_time + 1, len(X))\n",
    "        return np.c_[t, X]\n",
    "\n",
    "    def transform(self, X, y=None):\n",
    "        return [self.transform_instance(x) for x in X]\n",
    "\n",
    "class Reversion(BaseEstimator, TransformerMixin):\n",
    "    def __init__(self):\n",
    "        pass\n",
    "\n",
    "    def fit(self, X, y=None):\n",
    "        return self\n",
    "\n",
    "    def transform(self, X, y=None):\n",
    "        return [as_float_array(x[::-1]) for x in X]\n",
    "\n",
    "\n",
    "class LeadLag(BaseEstimator, TransformerMixin):\n",
    "    def __init__(self):\n",
    "        pass\n",
    "\n",
    "    def fit(self, X, y=None):\n",
    "        return self\n",
    "\n",
    "    def transform_instance(self, X):\n",
    "        lag = []\n",
    "        lead = []\n",
    "\n",
    "        for val_lag, val_lead in zip(X[:-1], X[1:]):\n",
    "            lag.append(val_lag)\n",
    "            lead.append(val_lag)\n",
    "\n",
    "            lag.append(val_lag)\n",
    "            lead.append(val_lead)\n",
    "\n",
    "        lag.append(X[-1])\n",
    "        lead.append(X[-1])\n",
    "\n",
    "        return np.c_[lag, lead]\n",
    "\n",
    "    def transform(self, X, y=None):\n",
    "        return [self.transform_instance(x) for x in X]"
   ]
  }
 ],
 "metadata": {
  "colab": {
   "name": "Handwritting_anomaly_detection.ipynb",
   "provenance": []
  },
  "kernelspec": {
   "display_name": "Python 3 (ipykernel)",
   "language": "python",
   "name": "python3"
  },
  "language_info": {
   "codemirror_mode": {
    "name": "ipython",
    "version": 3
   },
   "file_extension": ".py",
   "mimetype": "text/x-python",
   "name": "python",
   "nbconvert_exporter": "python",
   "pygments_lexer": "ipython3",
   "version": "3.9.7"
  },
  "toc": {
   "base_numbering": 1,
   "nav_menu": {},
   "number_sections": true,
   "sideBar": false,
   "skip_h1_title": false,
   "title_cell": "Table of Contents",
   "title_sidebar": "Contents",
   "toc_cell": false,
   "toc_position": {
    "height": "600.54px",
    "left": "29px",
    "top": "110.306px",
    "width": "165px"
   },
   "toc_section_display": true,
   "toc_window_display": false
  }
 },
 "nbformat": 4,
 "nbformat_minor": 1
}
