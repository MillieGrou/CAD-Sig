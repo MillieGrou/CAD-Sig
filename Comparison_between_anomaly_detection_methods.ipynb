{
 "cells": [
  {
   "cell_type": "code",
   "execution_count": 8,
   "id": "19f4f1e1",
   "metadata": {},
   "outputs": [],
   "source": [
    "%run anomaly_detection_main.ipynb"
   ]
  },
  {
   "cell_type": "markdown",
   "id": "35eac1d7",
   "metadata": {},
   "source": [
    "1. Add different data set\n",
    "4. Order book data change to sliding window"
   ]
  },
  {
   "cell_type": "code",
   "execution_count": 43,
   "id": "73435c11",
   "metadata": {},
   "outputs": [],
   "source": [
    "from sklearn.neighbors import KNeighborsClassifier\n",
    "from sklearn import metrics\n",
    "from sklearn.model_selection import KFold\n",
    "from sklearn.neighbors import LocalOutlierFactor"
   ]
  },
  {
   "cell_type": "code",
   "execution_count": null,
   "id": "1cb3ff59",
   "metadata": {},
   "outputs": [],
   "source": []
  },
  {
   "cell_type": "code",
   "execution_count": 10,
   "id": "99726e10",
   "metadata": {},
   "outputs": [],
   "source": [
    "# def geobrownian_contam_sample(normal_var,abnormal_var,n,nPath,normal_ratio):\n",
    "    \n",
    "#     mu = 0\n",
    "#     S0 = 1\n",
    "\n",
    "#     t = np.linspace(0, 1, n)\n",
    "#     dt = t[1] - t[0]\n",
    "#     nPath_normal = np.int(nPath*normal_ratio) \n",
    "\n",
    "#     W_n = np.random.normal(0,normal_var*dt,(nPath_normal,n)) \n",
    "#     W_a = np.random.normal(0,abnormal_var*dt,((nPath - nPath_normal),n))\n",
    "\n",
    "#     W = np.cumsum(np.concatenate((W_n,W_a))) ### standard brownian motion ###\n",
    "\n",
    "#     sigma = np.concatenate((np.ones(nPath_normal)*normal_var,np.ones(nPath - nPath_normal)*abnormal_var))\n",
    "#     X = -0.5*np.outer(sigma,t) \n",
    "#     Y = W*np.sqrt(sigma)\n",
    "#     S = np.exp(X) ### geometric brownian motion ###\n",
    "\n",
    "#     return ,t,nPath_normal"
   ]
  },
  {
   "cell_type": "code",
   "execution_count": 11,
   "id": "81f05341",
   "metadata": {},
   "outputs": [],
   "source": [
    "# n,nPath_train,nPath_test,normal_ratio=100,1000,500,0.95\n",
    "# # the drifts for define normal and abnormal path\n",
    "# # leadlag_transform\n",
    "# normal_var,abnormal_var = 1,1.5\n",
    "\n",
    "# geobrown_train_var,geo_time_train_var,geo_nPath_train_normal_var = geobrownian_contam_sample(normal_var,abnormal_var,n,nPath_train,normal_ratio)\n",
    "# geoown_test_var,geo_time_test_var,geo_nPath_test_normal_var = geobrownian_contam_sample(normal_var,abnormal_var,n,nPath_test,normal_ratio)"
   ]
  },
  {
   "cell_type": "markdown",
   "id": "cc36323f",
   "metadata": {},
   "source": [
    "### Simulated Brownian Motion Data Contaminated with Different Variance"
   ]
  },
  {
   "cell_type": "code",
   "execution_count": 12,
   "id": "980db73c",
   "metadata": {},
   "outputs": [],
   "source": [
    "def brownian_contamvar_sample(normal_var,abnormal_var,n,nPath,normal_ratio): \n",
    "    \n",
    "    tt=np.linspace(0,1,n)\n",
    "    dt=tt[1]-tt[0]\n",
    "    \n",
    "    nPath_normal = np.int(nPath*normal_ratio) \n",
    "    \n",
    "    #construct normal and anomaly path\n",
    "\n",
    "    nn = np.random.normal(0,normal_var*dt,(nPath_normal,n))\n",
    "    aa = np.random.normal(0,abnormal_var*dt,((nPath - nPath_normal),n))\n",
    "    zz = np.concatenate((nn,aa))\n",
    "    ww = np.cumsum(zz,axis=1)\n",
    "    \n",
    "    label = np.concatenate((np.zeros(np.int(nPath*normal_ratio)),np.ones(np.int(nPath*(1-normal_ratio)))))\n",
    "    ww_shuffled,label_shuffled = shuffle(ww, label, random_state=0)\n",
    "    \n",
    "    return ww_shuffled,label_shuffled"
   ]
  },
  {
   "cell_type": "code",
   "execution_count": 93,
   "id": "8475cb9f",
   "metadata": {},
   "outputs": [],
   "source": [
    "n,nPath,normal_ratio=10,800,0.95\n",
    "# var for normal and abnormal path\n",
    "normal_var,abnormal_var = 1,3\n",
    "\n",
    "brown_contam,brown_contam_label = brownian_contamvar_sample(normal_var,abnormal_var,n,nPath,normal_ratio)"
   ]
  },
  {
   "cell_type": "markdown",
   "id": "df47b4d2",
   "metadata": {},
   "source": [
    "#### Isolation Forest"
   ]
  },
  {
   "cell_type": "code",
   "execution_count": 94,
   "id": "aa354500",
   "metadata": {},
   "outputs": [],
   "source": [
    "kf = KFold(n_splits=5,shuffle=True)\n",
    "fbeta_iso = []\n",
    "for train_index, test_index in kf.split(brown_contam):\n",
    "    brownpath_train, brownpath_test = brown_contam[train_index], brown_contam[test_index]\n",
    "    brownlabel_train, brownlabel_test = brown_contam_label[train_index], brown_contam_label[test_index]\n",
    "    \n",
    "    viforest = IsolationForest(n_estimators = 100,max_samples='auto', contamination=float(.1)).fit(brownpath_train)\n",
    "    vif_pred_label_test = viforest.predict(brownpath_test)\n",
    "    \n",
    "    where_0 = np.where(brownlabel_test == 0)\n",
    "    where_1 = np.where(brownlabel_test == 1)\n",
    "    brownlabel_test[where_0] = 1\n",
    "    brownlabel_test[where_1] = -1\n",
    "    \n",
    "    fbeta_iso.append(fbeta_score(brownlabel_test,vif_pred_label_test,average='macro', beta=2))"
   ]
  },
  {
   "cell_type": "code",
   "execution_count": 95,
   "id": "3f08fb91",
   "metadata": {},
   "outputs": [
    {
     "data": {
      "text/plain": [
       "0.8641203267646425"
      ]
     },
     "execution_count": 95,
     "metadata": {},
     "output_type": "execute_result"
    }
   ],
   "source": [
    "fbeta_iso_mean = np.mean(np.array(fbeta_iso))\n",
    "fbeta_iso_mean"
   ]
  },
  {
   "cell_type": "markdown",
   "id": "2a12012a",
   "metadata": {},
   "source": [
    "#### LOF"
   ]
  },
  {
   "cell_type": "code",
   "execution_count": 110,
   "id": "2e25f0f8",
   "metadata": {},
   "outputs": [
    {
     "data": {
      "text/plain": [
       "0.889041510841406"
      ]
     },
     "execution_count": 110,
     "metadata": {},
     "output_type": "execute_result"
    }
   ],
   "source": [
    "kf = KFold(n_splits=5,shuffle=True)\n",
    "fbeta_lof = []\n",
    "for train_index, test_index in kf.split(brown_contam):\n",
    "    brownpath_train, brownpath_test = brown_contam[train_index], brown_contam[test_index]\n",
    "    brownlabel_train, brownlabel_test = brown_contam_label[train_index], brown_contam_label[test_index]\n",
    "    clf = LocalOutlierFactor(n_neighbors=20, contamination=0.1, novelty=True)\n",
    "    clf.fit(brownpath_train)\n",
    "    lof_y_pred = clf.predict(brownpath_test)\n",
    "    \n",
    "    where_0 = np.where(brownlabel_test == 0)\n",
    "    where_1 = np.where(brownlabel_test == 1)\n",
    "    brownlabel_test[where_1] = -1\n",
    "    brownlabel_test[where_0] = 1\n",
    "    \n",
    "    fbeta_lof.append(fbeta_score(brownlabel_test,lof_y_pred,average='macro', beta=2))\n",
    "fbeta_lof_mean = np.mean(np.array(fbeta_lof))\n",
    "fbeta_lof_mean"
   ]
  },
  {
   "cell_type": "code",
   "execution_count": 108,
   "id": "46e781af",
   "metadata": {},
   "outputs": [
    {
     "data": {
      "text/plain": [
       "[0.8627843660828818,\n",
       " 0.9660516776652106,\n",
       " 0.9052309782608696,\n",
       " 0.8870567815521944,\n",
       " 0.8522591155191415]"
      ]
     },
     "execution_count": 108,
     "metadata": {},
     "output_type": "execute_result"
    }
   ],
   "source": [
    "fbeta_lof_mean"
   ]
  },
  {
   "cell_type": "markdown",
   "id": "5e09b6be",
   "metadata": {},
   "source": [
    "#### KNN"
   ]
  },
  {
   "cell_type": "code",
   "execution_count": 86,
   "id": "ece1f73a",
   "metadata": {},
   "outputs": [],
   "source": [
    "kf = KFold(n_splits=5,shuffle=True)\n",
    "fbeta_knn = []\n",
    "for train_index, test_index in kf.split(brown_contam):\n",
    "    brownpath_train, brownpath_test = brown_contam[train_index], brown_contam[test_index]\n",
    "    brownlabel_train, brownlabel_test = brown_contam_label[train_index], brown_contam_label[test_index]\n",
    "    \n",
    "    knn = KNeighborsClassifier(n_neighbors=10)\n",
    "    knn.fit(brownpath_train, brownlabel_train)\n",
    "    y_pred = knn.predict(brownpath_test)\n",
    "    \n",
    "    fbeta_knn.append(fbeta_score(brownlabel_test,y_pred,average='macro', beta=2))"
   ]
  },
  {
   "cell_type": "code",
   "execution_count": 87,
   "id": "b9ce2d3a",
   "metadata": {},
   "outputs": [
    {
     "data": {
      "text/plain": [
       "0.6769865925509564"
      ]
     },
     "execution_count": 87,
     "metadata": {},
     "output_type": "execute_result"
    }
   ],
   "source": [
    "fbeta_knn_mean = np.mean(np.array(fbeta_knn))\n",
    "fbeta_knn_mean"
   ]
  },
  {
   "cell_type": "markdown",
   "id": "5f4253db",
   "metadata": {},
   "source": [
    "#### Conformance Anomaly Detection"
   ]
  },
  {
   "cell_type": "code",
   "execution_count": 37,
   "id": "420ceb91",
   "metadata": {},
   "outputs": [],
   "source": [
    "# Transform data\n",
    "def geobrow_transfrom_paths(ww,nPath,normal_ratio,addtime, leadlag):\n",
    "    \n",
    "    ll = transform(ww,at = addtime,ll = leadlag)\n",
    "     \n",
    "    #label 0:normal 1:anomaly\n",
    "    nPath_normal = np.int(nPath*normal_ratio)\n",
    "    label = np.concatenate((np.zeros(nPath_normal),np.ones(nPath - nPath_normal)))\n",
    "\n",
    "    ll_shuffled,y_ll_shuffled = shuffle(ll, label, random_state=0)\n",
    "    \n",
    "    return np.array(ll_shuffled),y_ll_shuffled"
   ]
  },
  {
   "cell_type": "code",
   "execution_count": 38,
   "id": "8ff72130",
   "metadata": {},
   "outputs": [],
   "source": [
    "def pred_result(x,y,x_test,y_test):\n",
    "    #sig_order,epsilon = 3, 0.9\n",
    "    X1,X2,X1_label,X_test = sign_splitdata(x,y,x_test,3)\n",
    "    thershold_ratio,X1_pred_label= thershold(X1,X2,0.9)\n",
    "    pred_conf,pred_test_label = pred_anomaly(X_test,X2,thershold_ratio,y_test)\n",
    "    \n",
    "    return X1_label,X1_pred_label,thershold_ratio,pred_conf,pred_test_label"
   ]
  },
  {
   "cell_type": "code",
   "execution_count": 39,
   "id": "4af54d07",
   "metadata": {},
   "outputs": [],
   "source": [
    "vat_brownpath = transform(brown_contam,at = False,ll = True)"
   ]
  },
  {
   "cell_type": "code",
   "execution_count": 101,
   "id": "be7d8424",
   "metadata": {},
   "outputs": [],
   "source": [
    "kf = KFold(n_splits=5,shuffle=True)\n",
    "fbeta_conf_anomaly = []\n",
    "for train_index, test_index in kf.split(vat_brownpath):\n",
    "    vat_brownpath_train, vat_brownpath_test = vat_brownpath[train_index], vat_brownpath[test_index]\n",
    "    vat_brownlabel_train, vat_brownlabel_test = brown_contam_label[train_index], brown_contam_label[test_index]\n",
    "    X1_label_browian,X1_pred_label_browian,conf_threshold,pred_conf_browian,pred_label_browian = pred_result(vat_brownpath_train,vat_brownlabel_train,vat_brownpath_test,vat_brownlabel_test)\n",
    "    fbeta_conf_anomaly.append(fbeta_score(vat_brownlabel_test,pred_label_browian,average='macro', beta=2))\n",
    "fbeta_conf_anomaly_mean = np.mean(np.array(fbeta_conf_anomaly))"
   ]
  },
  {
   "cell_type": "code",
   "execution_count": 102,
   "id": "157b6655",
   "metadata": {},
   "outputs": [
    {
     "data": {
      "text/plain": [
       "[0.9345815124559107,\n",
       " 0.9031092925159758,\n",
       " 0.9439634439634439,\n",
       " 0.8038720538720538,\n",
       " 0.8486842105263157]"
      ]
     },
     "execution_count": 102,
     "metadata": {},
     "output_type": "execute_result"
    }
   ],
   "source": [
    "fbeta_conf_anomaly"
   ]
  },
  {
   "cell_type": "code",
   "execution_count": 103,
   "id": "aa504246",
   "metadata": {},
   "outputs": [
    {
     "data": {
      "text/plain": [
       "0.88684210266674"
      ]
     },
     "execution_count": 103,
     "metadata": {},
     "output_type": "execute_result"
    }
   ],
   "source": [
    "fbeta_conf_anomaly_mean = np.mean(np.array(fbeta_conf_anomaly))\n",
    "fbeta_conf_anomaly_mean"
   ]
  },
  {
   "cell_type": "markdown",
   "id": "e1074aa0",
   "metadata": {},
   "source": [
    "### Yahoo data"
   ]
  },
  {
   "cell_type": "code",
   "execution_count": null,
   "id": "372f8e6f",
   "metadata": {},
   "outputs": [],
   "source": [
    "file_num = 2\n",
    "yahoo_read_df = pd.read_csv('data_yahoo/ydata_v1_0/A1Benchmark/real_{}.csv'.format(file_num))"
   ]
  },
  {
   "cell_type": "code",
   "execution_count": null,
   "id": "aa21917c",
   "metadata": {},
   "outputs": [],
   "source": [
    "yahoo_read_df.head()"
   ]
  },
  {
   "cell_type": "code",
   "execution_count": null,
   "id": "3a6f3fca",
   "metadata": {},
   "outputs": [],
   "source": [
    "kf = KFold(n_splits=5,shuffle=True)\n",
    "Yahoo_fbeta_knn = []\n",
    "X = yahoo_read_df['value'].values.reshape(-1, 1)\n",
    "Y= yahoo_read_df['is_anomaly'].values.reshape(-1, 1)\n",
    "for train_index, test_index in kf.split(X):\n",
    "    X_train, X_test = X[train_index], X[test_index]\n",
    "    Y_train, Y_test = Y[train_index], Y[test_index]\n",
    "    \n",
    "    knn = KNeighborsClassifier(n_neighbors=5)\n",
    "    knn.fit(X_train, Y_train)\n",
    "    y_pred = knn.predict(X_test)\n",
    "    \n",
    "    Yahoo_fbeta_knn.append(fbeta_score(Y_test,y_pred,average='macro', beta=2))\n",
    "    \n",
    "Yahoo_fbeta_knn_mean = np.mean(np.array(Yahoo_fbeta_knn))"
   ]
  },
  {
   "cell_type": "code",
   "execution_count": null,
   "id": "0374291b",
   "metadata": {},
   "outputs": [],
   "source": [
    "Yahoo_fbeta_knn_mean"
   ]
  },
  {
   "cell_type": "code",
   "execution_count": null,
   "id": "79463efc",
   "metadata": {},
   "outputs": [],
   "source": [
    "X_transform = transform(yahoo_read_df[['timestamp','value']].values.reshape(2, -1),at = False,ll = True)[0].reshape((-1,1,2))"
   ]
  },
  {
   "cell_type": "code",
   "execution_count": null,
   "id": "53409760",
   "metadata": {},
   "outputs": [],
   "source": [
    "kf = KFold(n_splits=5,shuffle=True)\n",
    "Yahoo_fbeta_conf_anomaly = []\n",
    "for train_index, test_index in kf.split(X_leadlag):\n",
    "    vat_X_train, vat_X_test = X_leadlag[train_index], X_leadlag[test_index]\n",
    "    vat_Y_train, vat_Y_test = Y_transform[train_index], Y_transform[test_index]\n",
    "    X1_label_browian,X1_pred_label_browian,conf_threshold,pred_conf_browian,pred_label_browian = pred_result(vat_X_train,vat_Y_train,vat_X_test,vat_Y_test)\n",
    "    Yahoo_fbeta_conf_anomaly.append(fbeta_score(vat_Y_test,pred_label_browian,average='macro', beta=2))"
   ]
  },
  {
   "cell_type": "code",
   "execution_count": null,
   "id": "608e8748",
   "metadata": {},
   "outputs": [],
   "source": [
    "Yahoo_fbeta_conf_anomaly_mean = np.mean(np.array(Yahoo_fbeta_conf_anomaly))\n",
    "Yahoo_fbeta_conf_anomaly_mean"
   ]
  },
  {
   "cell_type": "markdown",
   "id": "4296db4f",
   "metadata": {},
   "source": [
    "### No use"
   ]
  },
  {
   "cell_type": "code",
   "execution_count": 82,
   "id": "7a5cea52",
   "metadata": {},
   "outputs": [],
   "source": [
    "viforest = IsolationForest(n_estimators = 100,max_samples='auto', contamination=float(.1)).fit(brown_train)\n",
    "vif_pred_label_test = viforest.predict(brown_test)"
   ]
  },
  {
   "cell_type": "code",
   "execution_count": 83,
   "id": "7a738f37",
   "metadata": {},
   "outputs": [],
   "source": [
    "vif_pred_label_test[vif_pred_label_test == 1] = 0\n",
    "vif_pred_label_test[vif_pred_label_test == -1] = 1"
   ]
  },
  {
   "cell_type": "code",
   "execution_count": 72,
   "id": "2118d751",
   "metadata": {},
   "outputs": [
    {
     "name": "stdout",
     "output_type": "stream",
     "text": [
      "0.4947916666666667\n"
     ]
    }
   ],
   "source": [
    "knn = KNeighborsClassifier(n_neighbors=5)\n",
    "knn.fit(vIso_brown_train, vIso_label_train)\n",
    "y_pred = knn.predict(vIso_brown_test)\n",
    "print(fbeta_score(vIso_label_test, y_pred, average='macro', beta=2))"
   ]
  },
  {
   "cell_type": "code",
   "execution_count": 84,
   "id": "2f46600e",
   "metadata": {},
   "outputs": [
    {
     "data": {
      "text/plain": [
       "0.5819339895773016"
      ]
     },
     "execution_count": 84,
     "metadata": {},
     "output_type": "execute_result"
    }
   ],
   "source": [
    "fbeta_score(brown_label_test, vif_pred_label_test, average='macro', beta=2)"
   ]
  },
  {
   "cell_type": "code",
   "execution_count": 42,
   "id": "f1d289fc",
   "metadata": {},
   "outputs": [],
   "source": [
    "# Lead-lag transform and label\n",
    "vat_brownpath_train,vat_brownlabel_train = geobrow_transfrom_paths(brown_train_var,nPath_train,normal_ratio,False,True)\n",
    "vat_brownpath_test,vat_brownlabel_test = geobrow_transfrom_paths(brown_test_var,nPath_test,normal_ratio,False,True)estimators ="
   ]
  },
  {
   "cell_type": "code",
   "execution_count": 106,
   "id": "30272fb1",
   "metadata": {},
   "outputs": [],
   "source": [
    "X1_label_browian,X1_pred_label_browian,conf_threshold,pred_conf_browian,pred_label_browian = pred_result(vat_brownpath_train,vat_brownlabel_train,vat_brownpath_test,vat_brownlabel_test)"
   ]
  }
 ],
 "metadata": {
  "kernelspec": {
   "display_name": "Python 3 (ipykernel)",
   "language": "python",
   "name": "python3"
  },
  "language_info": {
   "codemirror_mode": {
    "name": "ipython",
    "version": 3
   },
   "file_extension": ".py",
   "mimetype": "text/x-python",
   "name": "python",
   "nbconvert_exporter": "python",
   "pygments_lexer": "ipython3",
   "version": "3.9.7"
  },
  "toc": {
   "base_numbering": 1,
   "nav_menu": {},
   "number_sections": true,
   "sideBar": true,
   "skip_h1_title": false,
   "title_cell": "Table of Contents",
   "title_sidebar": "Contents",
   "toc_cell": false,
   "toc_position": {},
   "toc_section_display": true,
   "toc_window_display": false
  }
 },
 "nbformat": 4,
 "nbformat_minor": 5
}
